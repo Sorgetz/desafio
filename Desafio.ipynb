{
  "nbformat": 4,
  "nbformat_minor": 0,
  "metadata": {
    "colab": {
      "name": "Desafio",
      "provenance": []
    },
    "kernelspec": {
      "name": "python3",
      "display_name": "Python 3"
    }
  },
  "cells": [
    {
      "cell_type": "markdown",
      "metadata": {
        "id": "BIYrWqWZgOxj"
      },
      "source": [
        "#Desafio 3035Tech\r\n",
        "\r\n",
        "Exercícios resolvidos por Eduarda Sorgetz Alves"
      ]
    },
    {
      "cell_type": "markdown",
      "metadata": {
        "id": "5fkTINfi8c-C"
      },
      "source": [
        "1) Write a function that converts user entered date formatted as M/D/ YYYY to a format required by an API (YYYY-MM-DD). The parameter \"userDate\" and the return value are strings.\r\n",
        "For example, it should convert user entered date \"12/ 31/2014\" to \"2014-12-31\" suitable for the API.\r\n",
        "Example:\r\n",
        "\r\n",
        "```\r\n",
        "function formatDate(userDate) {\r\n",
        " // format from M/D/ YYYY to YYYYMMDD\r\n",
        "}formatDate(\"12/ 31/2014\")\r\n",
        "```\r\n",
        "\r\n"
      ]
    },
    {
      "cell_type": "code",
      "metadata": {
        "id": "8v8GgiQf8Vqj"
      },
      "source": [
        "#Criação da função\r\n",
        "def formatDate(userDate):\r\n",
        "  date = []\r\n",
        "  \"\"\"\r\n",
        "  Recebe um formato de M/D/YYYY e o converte para YYYY-MM-DD\r\n",
        "  \"\"\"\r\n",
        "  for i in userDate:\r\n",
        "    #Substituir / por -\r\n",
        "    if i == '/':\r\n",
        "      i = '-'\r\n",
        "    #Adcionar a lsita\r\n",
        "    date.append(i)\r\n",
        "  \r\n",
        "  #Assim a lista, com seus índices, fica da seguinte maneira\r\n",
        "  #[0] - Month\r\n",
        "  #[1] - Month\r\n",
        "  #[2] - /\r\n",
        "  #[3] - Day\r\n",
        "  #[4] - Day\r\n",
        "  #[5] - /\r\n",
        "  #[6] - Year\r\n",
        "  #[7] - Year\r\n",
        "  #[8] - Year\r\n",
        "  #[9] - Year\r\n",
        "  #Ou seja queremos a seguinte ordem: [3,4,2,0,1,5,8,9]\r\n",
        "\r\n",
        "  order = [3,4,2,0,1,5,6,7,8,9]\r\n",
        "  new_date = ''\r\n",
        "  #Realocando a string para a nova data\r\n",
        "  for i in order:\r\n",
        "    new_date += date[i]\r\n",
        "\r\n",
        "  return new_date\r\n"
      ],
      "execution_count": 1,
      "outputs": []
    },
    {
      "cell_type": "code",
      "metadata": {
        "colab": {
          "base_uri": "https://localhost:8080/",
          "height": 35
        },
        "id": "qRZuRWPi9Eok",
        "outputId": "b360007e-aa6c-45cb-c3a0-8071fa13ea59"
      },
      "source": [
        "#Teste\r\n",
        "formatDate('12/31/2014')"
      ],
      "execution_count": 2,
      "outputs": [
        {
          "output_type": "execute_result",
          "data": {
            "application/vnd.google.colaboratory.intrinsic+json": {
              "type": "string"
            },
            "text/plain": [
              "'31-12-2014'"
            ]
          },
          "metadata": {
            "tags": []
          },
          "execution_count": 2
        }
      ]
    },
    {
      "cell_type": "markdown",
      "metadata": {
        "id": "aRge_wizAifz"
      },
      "source": [
        "2) Escreva um algoritmo que receba uma string como parametro e retorne true ou false caso o parametro seja um palindromo.\r\n",
        " Ex: um palindromo é uma palavra ou frase que se le da mesma forma da esquerda para direita e da direita para esquerda, por exemplo: 'arara' ou 'Socorram-me, subi no ônibus em Marrocos'"
      ]
    },
    {
      "cell_type": "code",
      "metadata": {
        "id": "Me-f21Tz_3Yi"
      },
      "source": [
        "def palindromo(frase):\r\n",
        "  \"\"\"\r\n",
        "  Retorna verdadeiro caso seja um palindromo e falso caso não.\r\n",
        "  \"\"\"\r\n",
        "  #Limpeza do texto, deixar tudo em letra minúscula, sem pontuação e acentos!\r\n",
        "  frase = frase.lower()\r\n",
        "\r\n",
        "  #Get the index\r\n",
        "  format_frase = ''\r\n",
        "\r\n",
        "  for i in frase:\r\n",
        "    #Acentos\r\n",
        "    if i in ['ó', 'ô','õ']:\r\n",
        "      i = 'o'\r\n",
        "    if i in ['à','á','â','ã']:\r\n",
        "      i = 'a'\r\n",
        "    if i in ['é']:\r\n",
        "      i = 'e'\r\n",
        "    if i in ['i']:\r\n",
        "      i = 'i'\r\n",
        "\r\n",
        "    #Pontuação\r\n",
        "    if i in ['.',':',';',',','-','/',' ']:\r\n",
        "      i = ''\r\n",
        "    if i in ['-','/']:\r\n",
        "      i = ' '\r\n",
        "\r\n",
        "    format_frase += i\r\n",
        "  \r\n",
        "  print(format_frase)\r\n",
        "\r\n",
        "  #Pegar os índices de trás para frente\r\n",
        "  size = len(format_frase) - 1 #Pois tudo começa com index de [0]\r\n",
        "\r\n",
        "  for i in format_frase:\r\n",
        "    if i == format_frase[size]:#Compara primeiro item com último, segundo com penúltimo e assim vai...\r\n",
        "      #Vai para o próximo index (em sentindo de trá para fente)\r\n",
        "      size -= 1\r\n",
        "    else:\r\n",
        "      return False  \r\n",
        "\r\n",
        "  return True"
      ],
      "execution_count": 3,
      "outputs": []
    },
    {
      "cell_type": "code",
      "metadata": {
        "colab": {
          "base_uri": "https://localhost:8080/"
        },
        "id": "Yn8E8KMH9kW1",
        "outputId": "a5490993-d1c3-4551-d515-4729548f16dc"
      },
      "source": [
        "#Teste\r\n",
        "palindromo('arara')"
      ],
      "execution_count": 4,
      "outputs": [
        {
          "output_type": "stream",
          "text": [
            "arara\n"
          ],
          "name": "stdout"
        },
        {
          "output_type": "execute_result",
          "data": {
            "text/plain": [
              "True"
            ]
          },
          "metadata": {
            "tags": []
          },
          "execution_count": 4
        }
      ]
    },
    {
      "cell_type": "code",
      "metadata": {
        "colab": {
          "base_uri": "https://localhost:8080/"
        },
        "id": "4E1qG7QMIymi",
        "outputId": "24321238-e9cf-4faf-f985-6d45830a92cc"
      },
      "source": [
        "palindromo('áquela')"
      ],
      "execution_count": 5,
      "outputs": [
        {
          "output_type": "stream",
          "text": [
            "aquela\n"
          ],
          "name": "stdout"
        },
        {
          "output_type": "execute_result",
          "data": {
            "text/plain": [
              "False"
            ]
          },
          "metadata": {
            "tags": []
          },
          "execution_count": 5
        }
      ]
    },
    {
      "cell_type": "code",
      "metadata": {
        "colab": {
          "base_uri": "https://localhost:8080/"
        },
        "id": "m0KFNN3OBoQ7",
        "outputId": "213556f3-ef4b-4038-c443-fb1808bea712"
      },
      "source": [
        "palindromo('Socorram-me, subi no ônibus em Marrocos')"
      ],
      "execution_count": 6,
      "outputs": [
        {
          "output_type": "stream",
          "text": [
            "socorrammesubinoonibusemmarrocos\n"
          ],
          "name": "stdout"
        },
        {
          "output_type": "execute_result",
          "data": {
            "text/plain": [
              "True"
            ]
          },
          "metadata": {
            "tags": []
          },
          "execution_count": 6
        }
      ]
    },
    {
      "cell_type": "markdown",
      "metadata": {
        "id": "vDRKW0QmLhu2"
      },
      "source": [
        "3) Escreva um algoritmo que receba uma string como parametro e retorne apenas as vogais da mesma.\r\n",
        " Ex: entrada = 'tecnologia e informatica'\r\n",
        "  saida: 'eooia e ioaia'\r\n"
      ]
    },
    {
      "cell_type": "code",
      "metadata": {
        "id": "CFfujceXEM0o"
      },
      "source": [
        "def vogais(frase):\r\n",
        "  \"\"\"\r\n",
        "  Recebe uma palavra e retorna apenas as vogais\r\n",
        "  \"\"\"\r\n",
        "  new_frase = ''\r\n",
        "\r\n",
        "  for i in frase:\r\n",
        "    if i in ['a','e','i','o','u',' ']:\r\n",
        "      new_frase += i\r\n",
        "\r\n",
        "  return new_frase"
      ],
      "execution_count": 7,
      "outputs": []
    },
    {
      "cell_type": "code",
      "metadata": {
        "colab": {
          "base_uri": "https://localhost:8080/",
          "height": 35
        },
        "id": "oXvAiZQsMBhp",
        "outputId": "1913bf11-f7ad-49f7-b192-409949b22a47"
      },
      "source": [
        "#Teste\r\n",
        "vogais('tecnologia e informatica')"
      ],
      "execution_count": 8,
      "outputs": [
        {
          "output_type": "execute_result",
          "data": {
            "application/vnd.google.colaboratory.intrinsic+json": {
              "type": "string"
            },
            "text/plain": [
              "'eooia e ioaia'"
            ]
          },
          "metadata": {
            "tags": []
          },
          "execution_count": 8
        }
      ]
    },
    {
      "cell_type": "markdown",
      "metadata": {
        "id": "heXKpo9XM5ZY"
      },
      "source": [
        "4) Escreva um algoritmo que receba uma string como parametro e retorne quantos vezes as palavras repetidas aparecem na string.\r\n",
        " \r\n",
        " Ex: 'o rato roeu a roupa roida do rato sem roupa'\r\n",
        " \r\n",
        " o = 1\r\n",
        " rato = 2\r\n",
        " roeu = 1\r\n",
        " a = 1\r\n",
        " roupa = 2\r\n",
        " roida = 1\r\n",
        " do = 1\r\n",
        " sem = 1"
      ]
    },
    {
      "cell_type": "code",
      "metadata": {
        "id": "qQYRC9FuMFkT"
      },
      "source": [
        "def conta_repeticoes(frase):\r\n",
        "  \"\"\"\r\n",
        "  Função que contas quantas vezes palavras repetidas aparecem na frase\r\n",
        "  \"\"\"\r\n",
        "  palavras = frase.split()\r\n",
        "  newpalavras = []\r\n",
        "  contagem = []\r\n",
        "\r\n",
        "  for i in palavras:\r\n",
        "  \r\n",
        "    #Caso a palavra já foi adcionada ao newpalavras\r\n",
        "    if i in newpalavras:\r\n",
        "      index = 0\r\n",
        "      for j in newpalavras:\r\n",
        "        if j == i:\r\n",
        "          contagem[index] += 1\r\n",
        "        index += 1\r\n",
        "\r\n",
        "    #Caso não, adciona a palavra a newpalavras  \r\n",
        "    if i not in newpalavras:\r\n",
        "      newpalavras.append(i)\r\n",
        "      contagem.append(1)\r\n",
        "\r\n",
        "  for palavra, contagem in zip(newpalavras, contagem):\r\n",
        "    print(f'{palavra} = {contagem}')"
      ],
      "execution_count": 9,
      "outputs": []
    },
    {
      "cell_type": "code",
      "metadata": {
        "colab": {
          "base_uri": "https://localhost:8080/"
        },
        "id": "eqeMqMGyNWVZ",
        "outputId": "2577be7a-c33d-4eb1-b924-d1257b947606"
      },
      "source": [
        "#Teste\r\n",
        "conta_repeticoes('o rato roeu a roupa roida do rato sem roupa')"
      ],
      "execution_count": 10,
      "outputs": [
        {
          "output_type": "stream",
          "text": [
            "o = 1\n",
            "rato = 2\n",
            "roeu = 1\n",
            "a = 1\n",
            "roupa = 2\n",
            "roida = 1\n",
            "do = 1\n",
            "sem = 1\n"
          ],
          "name": "stdout"
        }
      ]
    },
    {
      "cell_type": "markdown",
      "metadata": {
        "id": "ycQws4D2Ugz1"
      },
      "source": [
        "5) Escreva um algoritmo de ordenação que receba um vetor de números como parametro e ordene de forma crescente.\r\n",
        "\r\n",
        "Ex: \r\n",
        "\r\n",
        "entrada = {5, 8, 1, 3, 10, 9}\r\n",
        "    \r\n",
        "saida: {1, 3, 5, 8, 9, 10}"
      ]
    },
    {
      "cell_type": "code",
      "metadata": {
        "id": "YAMjbfapNbpR"
      },
      "source": [
        "def ordenacao(vetor):\r\n",
        "  \"\"\"\r\n",
        "  Recebe um vetor e o ordena de forma crescente\r\n",
        "  \"\"\"\r\n",
        "  newvetor = []\r\n",
        "  size = len(vetor)\r\n",
        "\r\n",
        "  for i in vetor:\r\n",
        "    #Para i, verifica se há outro valor menor no vetor\r\n",
        "    for j in vetor:\r\n",
        "      if j < i:\r\n",
        "        #Caso j seja menor e ainda não foi adicionado no newvetor\r\n",
        "        if j not in newvetor:\r\n",
        "          newvetor.append(j)\r\n",
        "    #Adciona o último valor que, por ser o maior, não é menor que nenhum dos outros números\r\n",
        "    if i not in newvetor:\r\n",
        "          newvetor.append(i)\r\n",
        "  \r\n",
        "  return newvetor"
      ],
      "execution_count": 11,
      "outputs": []
    },
    {
      "cell_type": "code",
      "metadata": {
        "colab": {
          "base_uri": "https://localhost:8080/"
        },
        "id": "MQna2zUwWcj6",
        "outputId": "d5765b43-ac8d-4dfb-95d9-30b905f585e8"
      },
      "source": [
        "#Teste\r\n",
        "ordenacao([5, 8, 1, 3, 10, 9])"
      ],
      "execution_count": 12,
      "outputs": [
        {
          "output_type": "execute_result",
          "data": {
            "text/plain": [
              "[1, 3, 5, 8, 9, 10]"
            ]
          },
          "metadata": {
            "tags": []
          },
          "execution_count": 12
        }
      ]
    },
    {
      "cell_type": "markdown",
      "metadata": {
        "id": "0j0HxUfCa7X1"
      },
      "source": [
        "6) Escreva um algoritmo que leia 15 numeros reais. Após, o método deve calcular e exibir o resultado da media aritmética simples desses 15 números lidos"
      ]
    },
    {
      "cell_type": "code",
      "metadata": {
        "id": "fTibKwweWimg"
      },
      "source": [
        "def media(numeros):\r\n",
        "  size = len(numeros) #Pega a quantidade dos números\r\n",
        "  total = 0\r\n",
        "\r\n",
        "  for i in numeros:\r\n",
        "    #Soma todos os números\r\n",
        "    total += i\r\n",
        "  \r\n",
        "  #Faz o cálcula de média\r\n",
        "  res = total/size\r\n",
        "  return res"
      ],
      "execution_count": 13,
      "outputs": []
    },
    {
      "cell_type": "code",
      "metadata": {
        "colab": {
          "base_uri": "https://localhost:8080/"
        },
        "id": "KeMAAJYCbdc3",
        "outputId": "556bb744-dd1d-4990-fdf0-7fb36a5f0304"
      },
      "source": [
        "#Teste\r\n",
        "num = [2,2,2,2,2,2,2,2,2,2,2,2,2,2,2]\r\n",
        "media(num)"
      ],
      "execution_count": 14,
      "outputs": [
        {
          "output_type": "execute_result",
          "data": {
            "text/plain": [
              "2.0"
            ]
          },
          "metadata": {
            "tags": []
          },
          "execution_count": 14
        }
      ]
    }
  ]
}